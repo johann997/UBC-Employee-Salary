{
 "cells": [
  {
   "cell_type": "code",
   "execution_count": 231,
   "metadata": {},
   "outputs": [],
   "source": [
    "import os\n",
    "import copy\n",
    "import json\n",
    "import re\n",
    "\n",
    "import pandas as pd\n",
    "import numpy as np\n",
    "\n",
    "import PyPDF2\n",
    "import gender_guesser.detector as gender\n",
    "\n",
    "# import pyproj # convert lat/lon into Plotly standard\n",
    "\n",
    "# import plotly.express as px\n",
    "# import plotly.graph_objects as go\n",
    "\n",
    "pd.set_option('display.max_columns', 70)\n",
    "\n",
    "# import plotly.offline as pyo\n",
    "# pyo.init_notebook_mode(connected=True)\n",
    "# import plotly.io as pio\n",
    "# pio.renderers.default = \"vscode\"\n"
   ]
  },
  {
   "cell_type": "code",
   "execution_count": 232,
   "metadata": {},
   "outputs": [],
   "source": [
    "PWD = os.getcwd()\n",
    "DATA_PATH = PWD + \"/data/\"\n",
    "\n",
    "FY_DATA_PATH = DATA_PATH + \"financial-statements/\"\n",
    "FY_BASE_NAME = \"UBC-FY\""
   ]
  },
  {
   "cell_type": "markdown",
   "metadata": {},
   "source": [
    "## Manually Set page ranges\n",
    "\n"
   ]
  },
  {
   "cell_type": "code",
   "execution_count": 233,
   "metadata": {},
   "outputs": [],
   "source": [
    "page_limits = {\n",
    "    '2021':{'min':42, 'max':141},\n",
    "    '2022':{'min':45, 'max':165},\n",
    "    '2023':{'min':44, 'max':172},\n",
    "    '2024':{'min':43, 'max':188},}"
   ]
  },
  {
   "cell_type": "code",
   "execution_count": 234,
   "metadata": {},
   "outputs": [],
   "source": [
    "\n",
    "def null_str_to_nan(test_number):\n",
    "\n",
    "    if test_number.isnumeric():\n",
    "        return test_number\n",
    "    else:\n",
    "        return np.nan\n",
    "    \n",
    "\n",
    "def is_numeric(test_string):\n",
    "\n",
    "    return test_string.lstrip('-').replace(',','').replace(\"(\", \"\").replace(\")\", \"\").isnumeric()\n",
    "\n",
    "\n",
    "\n",
    "\n",
    "\n",
    "def pdf_to_df(pdf_file, year, page_start, page_end):\n",
    "\n",
    "    pdfFileObj = open(pdf_file, 'rb')\n",
    "    \n",
    "    # creating a pdf reader object\n",
    "    pdfReader = PyPDF2.PdfFileReader(pdfFileObj)\n",
    "    \n",
    "    column_header_pattern = r\"Name\\s*Remuneration\\s*Expenses\"\n",
    "\n",
    "    data = pd.DataFrame({'name':[], 'year':[], 'salary':[], 'expense':[]})\n",
    "\n",
    "    for page in np.arange(page_start, page_end, 1):\n",
    "\n",
    "        # print('+'*80)\n",
    "\n",
    "        page = int(page)\n",
    "        pageObj = pdfReader.getPage(page)\n",
    "        pagetxt = pageObj.extractText()\n",
    "\n",
    "\n",
    "        begin = 0\n",
    "        finished_prof = 0\n",
    "        prof = []\n",
    "\n",
    "        for index, line in enumerate(pagetxt.split('\\n')):\n",
    "\n",
    "        \n",
    "            if begin == 1:\n",
    "\n",
    "        \n",
    "                if finished_prof == 1:\n",
    "                    name = ''\n",
    "                    pay = null_str_to_nan(prof[-2].replace(',','').replace(\"(\", \"\").replace(\")\", \"\"))\n",
    "                    exp = null_str_to_nan(prof[-1].replace(',','').replace(\"(\", \"\").replace(\")\", \"\"))\n",
    "                    for n in prof[0:-2]:\n",
    "                        name = name + n.upper() + ' '\n",
    "                    new_row = pd.DataFrame({'name':[name], 'year':[int(year)], 'salary':[pay], 'expense':[exp]})\n",
    "                    data = pd.concat([data, new_row], ignore_index=True)\n",
    "                    \n",
    "                    # print(new_row)\n",
    "                    # print('-'*80)\n",
    "                \n",
    "                    \n",
    "                    prof = []\n",
    "                    finished_prof = 0\n",
    "                    \n",
    "                if len(line.split()) != 0:# and not re.search(column_header_pattern, line, re.DOTALL):# i.split() != ['Remuneration', 'Expenses*']:                        \n",
    "\n",
    "                    cleaned_line = re.sub(column_header_pattern, \"\", line).replace(\"*\", \"\").strip()\n",
    "\n",
    "                    # print(cleaned_line)\n",
    "\n",
    "                    if finished_prof == 0 and (cleaned_line.split()[-1] == '-' or is_numeric(cleaned_line.split()[-1])) and \"$\" not in cleaned_line: \n",
    "                        for k in cleaned_line.split():\n",
    "                            prof.append(k)\n",
    "                        finished_prof = 1\n",
    "                        \n",
    "        \n",
    "                    else:\n",
    "                        for k in line.split():\n",
    "                            prof.append(k)               \n",
    "                        finished_prof = 0\n",
    "                    \n",
    "                \n",
    "                # print(line)\n",
    "                \n",
    "                        \n",
    "            \n",
    "            if re.search(column_header_pattern, line, re.DOTALL):\n",
    "\n",
    "                begin = 1\n",
    "        \n",
    "\n",
    "\n",
    "\n",
    "    # closing the pdf file object\n",
    "    pdfFileObj.close()\n",
    "\n",
    "\n",
    "    return data\n"
   ]
  },
  {
   "cell_type": "code",
   "execution_count": 235,
   "metadata": {},
   "outputs": [
    {
     "name": "stdout",
     "output_type": "stream",
     "text": [
      "Parsing Year 2021\n",
      "Parsing Year 2022\n",
      "Parsing Year 2023\n"
     ]
    }
   ],
   "source": [
    "df = pd.DataFrame({'name':[], 'year':[], 'salary':[], 'expense':[]})\n",
    "\n",
    "for i, (year, value) in enumerate(page_limits.items()):\n",
    "\n",
    "    if year  != '2024':\n",
    "        print(f'Parsing Year {year}')\n",
    "\n",
    "        pdf_file = FY_DATA_PATH + FY_BASE_NAME + year + '.pdf'\n",
    "        page_start = value['min']\n",
    "        page_end = value['max']\n",
    "\n",
    "        new_df = pdf_to_df(pdf_file, int(year), page_start, page_end)\n",
    "\n",
    "        df = pd.concat([df, new_df], ignore_index=True)\n"
   ]
  },
  {
   "cell_type": "code",
   "execution_count": 236,
   "metadata": {},
   "outputs": [],
   "source": [
    "# df"
   ]
  },
  {
   "cell_type": "markdown",
   "metadata": {},
   "source": [
    "### Checking for people with the same name"
   ]
  },
  {
   "cell_type": "code",
   "execution_count": 237,
   "metadata": {},
   "outputs": [],
   "source": [
    "# Count occurrences of each name within each year\n",
    "name_counts = df.groupby([\"year\", \"name\"]).size().reset_index(name=\"count\")\n",
    "\n",
    "# Merge counts back to the original DataFrame\n",
    "df = df.merge(name_counts, on=[\"year\", \"name\"], how=\"left\")\n",
    "\n",
    "# Assign numbers only to names that appear more than once\n",
    "df[\"name_id\"] = df.groupby([\"year\", \"name\"]).cumcount() + 1  # Start numbering from 1\n",
    "df[\"name_id\"] = df.apply(\n",
    "    lambda x: f\"{x['name']} {x['name_id']}\" if x[\"count\"] > 1 else x[\"name\"],\n",
    "    axis=1\n",
    ")\n",
    "\n",
    "# Drop the auxiliary count column (optional)\n",
    "df.drop(columns=[\"count\"], inplace=True)\n",
    "\n",
    "\n",
    "rows_with_numbers = df[df[\"name_id\"].str.contains(r\"\\d\", na=False)]\n",
    "\n",
    "\n",
    "# check the duplicate occurance of names to see if it matches the sheets\n",
    "# print(rows_with_numbers.to_string())\n"
   ]
  },
  {
   "cell_type": "markdown",
   "metadata": {},
   "source": [
    "### Work out if male or female"
   ]
  },
  {
   "cell_type": "code",
   "execution_count": 238,
   "metadata": {},
   "outputs": [],
   "source": [
    "unique_names = df[\"name\"].unique()\n",
    "\n",
    "\n",
    "def most_common_gender(gender_list):\n",
    "    # Initialize counts for 'male' and 'female'\n",
    "    male_count = 0\n",
    "    female_count = 0\n",
    "\n",
    "    # Count occurrences of 'male' and 'female', ignoring 'unknown'\n",
    "    for gender in gender_list:\n",
    "        if gender == 'male':\n",
    "            male_count += 1\n",
    "        elif gender == 'female':\n",
    "            female_count += 1\n",
    "\n",
    "    # Determine which gender has the most occurrences\n",
    "    if male_count > female_count:\n",
    "        return 'male'\n",
    "    elif female_count > male_count:\n",
    "        return 'female'\n",
    "    else:\n",
    "        return 'unknown'  # Return None if both are equal or the list has no valid entries\n",
    "\n",
    "\n",
    "\n",
    "# Pass the entire full name to the detector\n",
    "d = gender.Detector()\n",
    "\n",
    "# Function to process and estimate gender\n",
    "def estimate_gender(full_name):\n",
    "    # Normalize the name (capitalize each word for consistent processing)\n",
    "    full_name = full_name.title()  # \"CARROLL, MICHAEL\" -> \"Carroll, Michael\"\n",
    "    split_name = full_name.split(',')\n",
    "    first_name = split_name[-1].strip().title()\n",
    "\n",
    "    temp_gender = []\n",
    "\n",
    "    for split_first_name in first_name.split(' '):\n",
    "\n",
    "        split_first_name = split_first_name.strip().title()\n",
    "        temp_gender.append(d.get_gender(split_first_name))\n",
    "\n",
    "\n",
    "    guessed_gender = most_common_gender(temp_gender)\n",
    "\n",
    "    # if guessed_gender == 'unknown':\n",
    "        # print(full_name)\n",
    "        # full_name = full_name.split(',')[-2].strip().title()\n",
    "        # guessed_gender = d.get_gender(full_name)\n",
    "\n",
    "    return guessed_gender\n",
    "\n",
    "\n",
    "\n",
    "# Apply the function to the list of names\n",
    "results = [(name, estimate_gender(name)) for name in unique_names]\n",
    "\n",
    "name_gender_dict = dict(results)\n"
   ]
  },
  {
   "cell_type": "code",
   "execution_count": 239,
   "metadata": {},
   "outputs": [
    {
     "name": "stdout",
     "output_type": "stream",
     "text": [
      "Counts by Gender:\n",
      "Male: 3791\n",
      "Female: 3586\n",
      "Unknown: 1686\n"
     ]
    }
   ],
   "source": [
    "# Count occurrences of each gender category\n",
    "gender_counts = {\n",
    "    \"male\": 0,\n",
    "    \"female\": 0,\n",
    "    \"unknown\": 0\n",
    "}\n",
    "\n",
    "for _, gender_detect in results:\n",
    "    if gender_detect in gender_counts:\n",
    "        gender_counts[gender_detect] += 1\n",
    "\n",
    "# Print the counts\n",
    "print(\"Counts by Gender:\")\n",
    "for gender_detect, count in gender_counts.items():\n",
    "    print(f\"{gender_detect.capitalize()}: {count}\")"
   ]
  },
  {
   "cell_type": "markdown",
   "metadata": {},
   "source": [
    "### Adding sex to the dataframe"
   ]
  },
  {
   "cell_type": "code",
   "execution_count": 240,
   "metadata": {},
   "outputs": [],
   "source": [
    "df['gender'] = df['name'].map(name_gender_dict)"
   ]
  },
  {
   "cell_type": "markdown",
   "metadata": {},
   "source": [
    "### Ensuring salary and expenses are numeric"
   ]
  },
  {
   "cell_type": "code",
   "execution_count": 241,
   "metadata": {},
   "outputs": [],
   "source": [
    "df['salary'] = pd.to_numeric(df['salary'], errors='coerce')\n",
    "df['expense'] = pd.to_numeric(df['expense'], errors='coerce')"
   ]
  },
  {
   "cell_type": "markdown",
   "metadata": {},
   "source": [
    "### Save to .csv"
   ]
  },
  {
   "cell_type": "code",
   "execution_count": 242,
   "metadata": {},
   "outputs": [],
   "source": [
    "csv_file = DATA_PATH + 'output/salary.csv'\n",
    "\n",
    "\n",
    "df.to_csv(csv_file, index=False) "
   ]
  },
  {
   "cell_type": "markdown",
   "metadata": {},
   "source": [
    "---\n",
    "---"
   ]
  },
  {
   "cell_type": "markdown",
   "metadata": {},
   "source": [
    "## Creating new csv with calculations"
   ]
  },
  {
   "cell_type": "code",
   "execution_count": 243,
   "metadata": {},
   "outputs": [],
   "source": [
    "def get_yearly_changes(df, name_id, years):\n",
    "\n",
    "    number_of_years = len(years)\n",
    "\n",
    "    year_range, salary_amount_change, salary_percent_change, yearly_check = [], [], [], []\n",
    "    year_range_str = ''\n",
    "    salary_amount_change_num, salary_percent_change_num = 0, 0\n",
    "\n",
    "    if number_of_years <= 1:\n",
    "        return np.nan, np.nan, np.nan, np.nan\n",
    "    \n",
    "\n",
    "    for index, year in enumerate(years):\n",
    "\n",
    "        filtered_row = df[(df['year'] == year) & (df['name_id'] == name_id)].iloc[0]\n",
    "\n",
    "        if index + 1 < number_of_years:\n",
    "\n",
    "            if years[index+1] - year == 1:\n",
    "                year_range_str = f\"{year}-{years[index+1]}\"\n",
    "                \n",
    "                filtered_row_new = df[(df['year'] == years[index+1]) & (df['name_id'] == name_id)].iloc[0]\n",
    "                salary_amount_change_num = filtered_row_new['salary'] - filtered_row['salary']\n",
    "                salary_percent_change_num = (filtered_row_new['salary'] - filtered_row['salary'])/filtered_row['salary']\n",
    "\n",
    "                year_range.append(year_range_str)\n",
    "                salary_amount_change.append(salary_amount_change_num)\n",
    "                salary_percent_change.append(salary_percent_change_num)\n",
    "                yearly_check.append(True)\n",
    "\n",
    "                if number_of_years <= 2:\n",
    "                    break\n",
    "        else:\n",
    "            year_range_str = f\"{years[0]}-{year}\"\n",
    "\n",
    "            filtered_row_new = df[(df['year'] == years[0]) & (df['name_id'] == name_id)].iloc[0]\n",
    "            salary_amount_change_num = filtered_row['salary'] - filtered_row_new['salary']\n",
    "            salary_percent_change_num = (filtered_row['salary'] - filtered_row_new['salary'])/filtered_row_new['salary']\n",
    "\n",
    "            year_range.append(year_range_str)\n",
    "            salary_amount_change.append(salary_amount_change_num)\n",
    "            salary_percent_change.append(salary_percent_change_num)\n",
    "            yearly_check.append(False)\n",
    "        \n",
    "\n",
    "    return year_range, salary_amount_change, salary_percent_change, yearly_check\n"
   ]
  },
  {
   "cell_type": "code",
   "execution_count": 244,
   "metadata": {},
   "outputs": [],
   "source": [
    "# unique_names = df[\"name_id\"].unique()\n",
    "years_by_id = df.groupby('name_id')['year'].apply(list).to_dict()\n",
    "\n",
    "calc_df = pd.DataFrame({'name_id':[], 'year_range':[], 'salary_amount_change':[], 'salary_percent_change':[], 'yearly_check':[]})\n",
    "\n",
    "\n",
    "# for unique_name in unique_names:\n",
    "for index, (name_id, years) in enumerate(years_by_id.items()):\n",
    "\n",
    "    if len(years) > 1:\n",
    "        \n",
    "        year_range, salary_amount_change, salary_percent_change, yearly_check = get_yearly_changes(df, name_id, years)\n",
    "\n",
    "        # print(name_id, years, year_range, salary_amount_change, yearly_check)   \n",
    "\n",
    "        # print(f'Name id {index} / {len(years_by_id)}')\n",
    "\n",
    "        new_row = pd.DataFrame({'name_id':[name_id]*len(year_range), \n",
    "                                'year_range':year_range, \n",
    "                                'salary_amount_change':salary_amount_change, \n",
    "                                'salary_percent_change':salary_percent_change,\n",
    "                                'yearly_check':yearly_check})\n",
    "        \n",
    "        calc_df = pd.concat([calc_df, new_row], ignore_index=True)\n",
    "\n"
   ]
  },
  {
   "cell_type": "markdown",
   "metadata": {},
   "source": [
    "### Save to .csv"
   ]
  },
  {
   "cell_type": "code",
   "execution_count": 247,
   "metadata": {},
   "outputs": [],
   "source": [
    "csv_calcfile = DATA_PATH + 'output/id-calc.csv'\n",
    "\n",
    "\n",
    "calc_df.to_csv(csv_calcfile, index=False) "
   ]
  },
  {
   "cell_type": "markdown",
   "metadata": {},
   "source": [
    "### Look at largest salary increases between years"
   ]
  },
  {
   "cell_type": "code",
   "execution_count": 248,
   "metadata": {},
   "outputs": [],
   "source": [
    "# calc_df.nlargest(20, 'salary_amount_change')"
   ]
  },
  {
   "cell_type": "code",
   "execution_count": null,
   "metadata": {},
   "outputs": [],
   "source": []
  },
  {
   "cell_type": "code",
   "execution_count": null,
   "metadata": {},
   "outputs": [],
   "source": []
  }
 ],
 "metadata": {
  "kernelspec": {
   "display_name": "berlin_wall_env",
   "language": "python",
   "name": "python3"
  },
  "language_info": {
   "codemirror_mode": {
    "name": "ipython",
    "version": 3
   },
   "file_extension": ".py",
   "mimetype": "text/x-python",
   "name": "python",
   "nbconvert_exporter": "python",
   "pygments_lexer": "ipython3",
   "version": "3.12.7"
  },
  "orig_nbformat": 4
 },
 "nbformat": 4,
 "nbformat_minor": 2
}
